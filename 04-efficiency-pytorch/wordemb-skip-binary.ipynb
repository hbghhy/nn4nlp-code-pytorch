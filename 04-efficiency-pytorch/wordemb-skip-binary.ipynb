{
 "cells": [
  {
   "cell_type": "code",
   "execution_count": 1,
   "metadata": {
    "ExecuteTime": {
     "end_time": "2018-04-10T13:48:02.953729Z",
     "start_time": "2018-04-10T13:48:02.766188Z"
    }
   },
   "outputs": [],
   "source": [
    "from collections import defaultdict\n",
    "import math\n",
    "import time\n",
    "import random\n",
    "import os, sys\n",
    "\n",
    "import torch\n",
    "import torch.nn as nn\n",
    "from torch.autograd import Variable\n",
    "import numpy as np"
   ]
  },
  {
   "cell_type": "code",
   "execution_count": 2,
   "metadata": {
    "ExecuteTime": {
     "end_time": "2018-04-10T13:48:03.552304Z",
     "start_time": "2018-04-10T13:48:02.955736Z"
    }
   },
   "outputs": [],
   "source": [
    "\n",
    "N = 2 # The length of the n-gram\n",
    "EMB_SIZE = 128 # The size of the embedding\n",
    "\n",
    "embeddings_location = \"embeddings.txt\" #the file to write the word embeddings to\n",
    "labels_location = \"labels.txt\" #the file to write the labels to\n",
    "\n",
    "USE_CUDA = torch.cuda.is_available()\n",
    "\n",
    "# Functions to read in the corpus\n",
    "# NOTE: We are using data from the Penn Treebank, which is already converted\n",
    "#       into an easy-to-use format with \"<unk>\" symbols. If we were using other\n",
    "#       data we would have to do pre-processing and consider how to choose\n",
    "#       unknown words, etc.\n",
    "w2i = defaultdict(lambda: len(w2i))\n",
    "S = w2i[\"<s>\"]\n",
    "UNK = w2i[\"<unk>\"]\n",
    "def read_dataset(filename):\n",
    "    with open(filename, \"r\") as f:\n",
    "        for line in f:\n",
    "            yield [w2i[x] for x in line.strip().split(\" \")]\n",
    "\n",
    "# Read in the data\n",
    "train = list(read_dataset(\"../data/ptb/train.txt\"))\n",
    "w2i = defaultdict(lambda: UNK, w2i)\n",
    "dev = list(read_dataset(\"../data/ptb/valid.txt\"))\n",
    "i2w = {v: k for k, v in w2i.items()}\n",
    "nwords = len(w2i)\n",
    "nbits = len(np.binary_repr(nwords-1))\n",
    "\n",
    "with open(labels_location, 'w') as labels_file:\n",
    "    for i in range(nwords):\n",
    "        labels_file.write(i2w[i] + '\\n')\n"
   ]
  },
  {
   "cell_type": "code",
   "execution_count": 3,
   "metadata": {
    "ExecuteTime": {
     "end_time": "2018-04-10T13:48:03.568850Z",
     "start_time": "2018-04-10T13:48:03.554310Z"
    }
   },
   "outputs": [],
   "source": [
    "\n",
    "class SKIP_BINARY(nn.Module):\n",
    "    def __init__(self, nwords, emb_size,nbits):\n",
    "        super(SKIP_BINARY, self).__init__()\n",
    "        self.embedding = nn.Embedding(nwords, emb_size)\n",
    "        self.linear = nn.Linear(emb_size, nbits)\n",
    "\n",
    "    def forward(self, words):\n",
    "        #print(words)\n",
    "        emb = self.embedding(words)    # 2D Tensor of size [batch_size x emb_size]\n",
    "        #feat = emb.view(emb.size(0), -1) # 2D Tensor of size [batch_size x (2 x num_context*emb_size)]\n",
    "        logit = self.linear(emb)           # 2D Tensor of size [batch_size x nbits]\n",
    "        #print(logit)\n",
    "        return logit"
   ]
  },
  {
   "cell_type": "code",
   "execution_count": 4,
   "metadata": {
    "ExecuteTime": {
     "end_time": "2018-04-10T13:48:06.412333Z",
     "start_time": "2018-04-10T13:48:03.571858Z"
    }
   },
   "outputs": [],
   "source": [
    "# Initialize the model and the optimizer\n",
    "model = SKIP_BINARY(nwords=nwords, emb_size=EMB_SIZE,nbits=nbits)\n",
    "if USE_CUDA:\n",
    "    model = model.cuda()\n",
    "optimizer = torch.optim.Adam(model.parameters(), lr=0.001)"
   ]
  },
  {
   "cell_type": "code",
   "execution_count": 5,
   "metadata": {
    "ExecuteTime": {
     "end_time": "2018-04-10T13:48:06.452476Z",
     "start_time": "2018-04-10T13:48:06.413838Z"
    }
   },
   "outputs": [],
   "source": [
    "# convert a (nested) list of int into a pytorch Variable\n",
    "def convert_to_variable(words):\n",
    "    var = Variable(torch.LongTensor(words))\n",
    "    if USE_CUDA:\n",
    "        var = var.cuda()\n",
    "\n",
    "    return var\n",
    "\n",
    "# A function to calculate scores for one value\n",
    "def calc_score_of_histories(words):\n",
    "    # This will change from a list of histories, to a pytorch Variable whose data type is LongTensor\n",
    "    #print(words)\n",
    "    words_var = convert_to_variable(words)\n",
    "    logits = model(words_var)\n",
    "    return logits\n",
    "\n",
    "# Calculate the loss value for the entire sentence\n",
    "def calc_sent_loss(sent):\n",
    "    # The initial history is equal to end of sentence symbols\n",
    "    # Step through the sentence, including the end of sentence token\n",
    "    all_histories = []\n",
    "    all_targets = []\n",
    "    for i in range(0,len(sent)):\n",
    "        pos_words = ([sent[x] if x >= 0 else S for x in range(i-N,i)] +\n",
    "                 [sent[x] if x < len(sent) else S for x in range(i+1,i+N+1)])\n",
    "        word_repr = [[float(y) for y in np.binary_repr(x).zfill(nbits)] for x in pos_words]\n",
    "        all_histories.extend(pos_words)\n",
    "        all_targets.extend(word_repr)\n",
    "    all_targets=Variable(torch.FloatTensor(all_targets))\n",
    "    if USE_CUDA:\n",
    "        all_targets = all_targets.cuda()    \n",
    "    predictions=calc_score_of_histories(all_histories)\n",
    "    loss=nn.functional.binary_cross_entropy_with_logits(predictions, all_targets, size_average=False)\n",
    "    return loss"
   ]
  },
  {
   "cell_type": "code",
   "execution_count": 6,
   "metadata": {
    "ExecuteTime": {
     "end_time": "2018-04-10T13:53:20.375706Z",
     "start_time": "2018-04-10T13:48:06.453945Z"
    }
   },
   "outputs": [
    {
     "name": "stdout",
     "output_type": "stream",
     "text": [
      "--finished 5000 sentences (word/sec=5241.69)\n",
      "--finished 10000 sentences (word/sec=5213.65)\n",
      "--finished 15000 sentences (word/sec=5208.77)\n",
      "--finished 20000 sentences (word/sec=5184.58)\n",
      "--finished 25000 sentences (word/sec=5267.74)\n",
      "--finished 30000 sentences (word/sec=5381.84)\n",
      "--finished 35000 sentences (word/sec=5462.38)\n",
      "--finished 40000 sentences (word/sec=5551.72)\n",
      "iter 0: train loss/word=5.5509, ppl=257.4751 (word/sec=5580.24)\n",
      "saving embedding files\n",
      "iter 0: dev loss/word=1.8138, ppl=6.1335 (word/sec=11344.42)\n",
      "--finished 5000 sentences (word/sec=6096.37)\n",
      "--finished 10000 sentences (word/sec=6206.39)\n",
      "--finished 15000 sentences (word/sec=6199.85)\n",
      "--finished 20000 sentences (word/sec=6234.28)\n",
      "--finished 25000 sentences (word/sec=6234.60)\n",
      "--finished 30000 sentences (word/sec=6225.82)\n",
      "--finished 35000 sentences (word/sec=6213.15)\n",
      "--finished 40000 sentences (word/sec=6219.90)\n",
      "iter 1: train loss/word=0.6473, ppl=1.9103 (word/sec=6219.88)\n",
      "saving embedding files\n",
      "iter 1: dev loss/word=0.6981, ppl=2.0100 (word/sec=11964.83)\n"
     ]
    }
   ],
   "source": [
    "last_dev = 1e20\n",
    "best_dev = 1e20\n",
    "\n",
    "for ITER in range(2):\n",
    "  # Perform training\n",
    "    random.shuffle(train)\n",
    "    # set the model to training mode\n",
    "    model.train()\n",
    "    train_words, train_loss = 0, 0.0\n",
    "    start = time.time()\n",
    "    for sent_id, sent in enumerate(train):\n",
    "        if len(sent)<=1:\n",
    "            continue\n",
    "        #print(sent)\n",
    "        my_loss = calc_sent_loss(sent)\n",
    "        train_loss += my_loss.data[0]\n",
    "        train_words += len(sent)\n",
    "        optimizer.zero_grad()\n",
    "        my_loss.backward()\n",
    "        optimizer.step()\n",
    "        if (sent_id+1) % 5000 == 0:\n",
    "            print(\"--finished %r sentences (word/sec=%.2f)\" % (sent_id+1, train_words/(time.time()-start)))\n",
    "    print(\"iter %r: train loss/word=%.4f, ppl=%.4f (word/sec=%.2f)\" % (ITER, train_loss/train_words, math.exp(train_loss/train_words), train_words/(time.time()-start)))\n",
    "\n",
    "    # Evaluate on dev set\n",
    "    # set the model to evaluation mode\n",
    "    model.eval()\n",
    "    dev_words, dev_loss = 0, 0.0\n",
    "    start = time.time()\n",
    "    for sent_id, sent in enumerate(dev):\n",
    "        if len(sent)<=1:\n",
    "            continue\n",
    "        my_loss = calc_sent_loss(sent)\n",
    "        dev_loss += my_loss.data[0]\n",
    "        dev_words += len(sent)\n",
    "\n",
    "    # Keep track of the development accuracy and reduce the learning rate if it got worse\n",
    "    if last_dev < dev_loss:\n",
    "        optimizer.learning_rate /= 2\n",
    "    last_dev = dev_loss\n",
    "\n",
    "    # Keep track of the best development accuracy, and save the model only if it's the best one\n",
    "    if best_dev > dev_loss:\n",
    "        print(\"saving embedding files\")\n",
    "        with open(embeddings_location, 'w') as embeddings_file:\n",
    "            W_w_np = model.embedding.weight.cpu().data.numpy()\n",
    "            for i in range(nwords):\n",
    "                ith_embedding = '\\t'.join(map(str, W_w_np[i]))\n",
    "                embeddings_file.write(ith_embedding + '\\n')\n",
    "        best_dev = dev_loss\n",
    "        \n",
    "        # Save the model\n",
    "    print(\"iter %r: dev loss/word=%.4f, ppl=%.4f (word/sec=%.2f)\" % (ITER, dev_loss/dev_words, math.exp(dev_loss/dev_words), dev_words/(time.time()-start)))\n"
   ]
  },
  {
   "cell_type": "code",
   "execution_count": null,
   "metadata": {},
   "outputs": [],
   "source": []
  }
 ],
 "metadata": {
  "kernelspec": {
   "display_name": "Python 3",
   "language": "python",
   "name": "python3"
  },
  "language_info": {
   "codemirror_mode": {
    "name": "ipython",
    "version": 3
   },
   "file_extension": ".py",
   "mimetype": "text/x-python",
   "name": "python",
   "nbconvert_exporter": "python",
   "pygments_lexer": "ipython3",
   "version": "3.6.4"
  }
 },
 "nbformat": 4,
 "nbformat_minor": 2
}

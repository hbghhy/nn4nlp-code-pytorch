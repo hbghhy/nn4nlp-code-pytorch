{
 "cells": [
  {
   "cell_type": "code",
   "execution_count": 1,
   "metadata": {
    "ExecuteTime": {
     "end_time": "2018-04-10T13:38:11.973005Z",
     "start_time": "2018-04-10T13:38:11.750898Z"
    }
   },
   "outputs": [],
   "source": [
    "from collections import defaultdict\n",
    "import math\n",
    "import time\n",
    "import random\n",
    "import os, sys\n",
    "\n",
    "import torch\n",
    "import torch.nn as nn\n",
    "from torch.autograd import Variable\n",
    "import numpy as np"
   ]
  },
  {
   "cell_type": "code",
   "execution_count": 2,
   "metadata": {
    "ExecuteTime": {
     "end_time": "2018-04-10T13:38:13.234747Z",
     "start_time": "2018-04-10T13:38:11.974991Z"
    }
   },
   "outputs": [],
   "source": [
    "K=3 #number of negative samples\n",
    "N = 2 # The length of the n-gram\n",
    "EMB_SIZE = 128 # The size of the embedding\n",
    "\n",
    "embeddings_location = \"embeddings.txt\" #the file to write the word embeddings to\n",
    "labels_location = \"labels.txt\" #the file to write the labels to\n",
    "\n",
    "USE_CUDA = torch.cuda.is_available()\n",
    "\n",
    "# Functions to read in the corpus\n",
    "# NOTE: We are using data from the Penn Treebank, which is already converted\n",
    "#       into an easy-to-use format with \"<unk>\" symbols. If we were using other\n",
    "#       data we would have to do pre-processing and consider how to choose\n",
    "#       unknown words, etc.\n",
    "w2i = defaultdict(lambda: len(w2i))\n",
    "S = w2i[\"<s>\"]\n",
    "UNK = w2i[\"<unk>\"]\n",
    "\n",
    "#word counts for negative sampling\n",
    "word_counts = defaultdict(int)\n",
    "\n",
    "def read_dataset(filename):\n",
    "    with open(filename, \"r\") as f:\n",
    "        for line in f:\n",
    "            for word in line:\n",
    "                word_counts[w2i[word]] += 1\n",
    "            yield [w2i[x] for x in line.strip().split(\" \")]\n",
    "\n",
    "# Read in the data\n",
    "train = list(read_dataset(\"../data/ptb/train.txt\"))\n",
    "w2i = defaultdict(lambda: UNK, w2i)\n",
    "dev = list(read_dataset(\"../data/ptb/valid.txt\"))\n",
    "i2w = {v: k for k, v in w2i.items()}\n",
    "nwords = len(w2i)\n",
    "\n",
    "\n",
    "# take the word counts to the 3/4, normalize\n",
    "counts =  np.array([list(x) for x in word_counts.items()])[:,1]**.75\n",
    "normalizing_constant = sum(counts)\n",
    "word_probabilities = np.zeros(nwords)\n",
    "for word_id in word_counts:\n",
    "    word_probabilities[word_id] = word_counts[word_id]**.75/normalizing_constant\n",
    "\n",
    "\n",
    "with open(labels_location, 'w') as labels_file:\n",
    "    for i in range(nwords):\n",
    "        labels_file.write(i2w[i] + '\\n')"
   ]
  },
  {
   "cell_type": "code",
   "execution_count": 3,
   "metadata": {
    "ExecuteTime": {
     "end_time": "2018-04-10T13:38:13.250747Z",
     "start_time": "2018-04-10T13:38:13.240714Z"
    }
   },
   "outputs": [],
   "source": [
    "\n",
    "class SKIP_NS(nn.Module):\n",
    "    def __init__(self, nwords, emb_size):\n",
    "        super(SKIP_NS, self).__init__()\n",
    "        self.embedding = nn.Embedding(nwords, emb_size)\n",
    "\n",
    "    def forward(self, words,contexts):\n",
    "        #print(words)\n",
    "        emb1 = self.embedding(words)    # 3D Tensor of size [batch_size x x emb_size]\n",
    "        emb2 = self.embedding(contexts)    # 3D Tensor of size [batch_size x x  emb_size]\n",
    "        #print(emb1*emb2)\n",
    "        return (emb1*emb2).sum(1)"
   ]
  },
  {
   "cell_type": "code",
   "execution_count": 4,
   "metadata": {
    "ExecuteTime": {
     "end_time": "2018-04-10T13:38:16.042219Z",
     "start_time": "2018-04-10T13:38:13.253751Z"
    }
   },
   "outputs": [],
   "source": [
    "# Initialize the model and the optimizer\n",
    "model = SKIP_NS(nwords=nwords, emb_size=EMB_SIZE)\n",
    "if USE_CUDA:\n",
    "    model = model.cuda()\n",
    "optimizer = torch.optim.Adam(model.parameters(), lr=0.001)"
   ]
  },
  {
   "cell_type": "code",
   "execution_count": 5,
   "metadata": {
    "ExecuteTime": {
     "end_time": "2018-04-10T13:38:16.112878Z",
     "start_time": "2018-04-10T13:38:16.044150Z"
    }
   },
   "outputs": [],
   "source": [
    "# convert a (nested) list of int into a pytorch Variable\n",
    "def convert_to_variable(words):\n",
    "    var = Variable(torch.LongTensor(words))\n",
    "    if USE_CUDA:\n",
    "        var = var.cuda()\n",
    "\n",
    "    return var\n",
    "\n",
    "# A function to calculate scores for one value\n",
    "def calc_score_of_histories(words,contexts):\n",
    "    # This will change from a list of histories, to a pytorch Variable whose data type is LongTensor\n",
    "    words_var = convert_to_variable(words)\n",
    "    contexts_var=convert_to_variable(contexts)\n",
    "    emb = model(words_var,contexts_var)\n",
    "    return emb\n",
    "\n",
    "# Calculate the loss value for the entire sentence\n",
    "def calc_sent_loss(sent):\n",
    "    # The initial history is equal to end of sentence symbols\n",
    "    # Step through the sentence, including the end of sentence token\n",
    "    loss=[]\n",
    "    all_neg_words = np.random.choice(nwords, size=2*N*K*len(sent), replace=True, p=word_probabilities).tolist()\n",
    "    all_histories = []\n",
    "    all_contexts = []\n",
    "    all_targets = []\n",
    "\n",
    "    for i in range(0,len(sent)):\n",
    "        neg_words = all_neg_words[i*K*2*N:(i+1)*K*2*N]\n",
    "        pos_words = ([sent[x] if x >= 0 else S for x in range(i-N,i)] +\n",
    "                 [sent[x] if x < len(sent) else S for x in range(i+1,i+N+1)])\n",
    "        for pos_word in pos_words:\n",
    "            all_histories.append(sent[i])\n",
    "            all_contexts.append(pos_word)\n",
    "            all_targets.append(1)\n",
    "        for neg_word in neg_words:\n",
    "            all_histories.append(sent[i])\n",
    "            all_contexts.append(neg_word)          \n",
    "            all_targets.append(0)\n",
    "    all_targets=Variable(torch.FloatTensor(all_targets))\n",
    "    if USE_CUDA:\n",
    "        all_targets = all_targets.cuda()    \n",
    "    predictions=calc_score_of_histories(all_histories,all_contexts)\n",
    "    loss=nn.functional.binary_cross_entropy_with_logits(predictions, all_targets,\n",
    "                                                        size_average=False)\n",
    "    return loss"
   ]
  },
  {
   "cell_type": "code",
   "execution_count": 6,
   "metadata": {
    "ExecuteTime": {
     "end_time": "2018-04-10T13:43:56.566986Z",
     "start_time": "2018-04-10T13:38:16.114370Z"
    }
   },
   "outputs": [
    {
     "name": "stdout",
     "output_type": "stream",
     "text": [
      "--finished 5000 sentences (word/sec=5091.30)\n",
      "--finished 10000 sentences (word/sec=4980.98)\n",
      "--finished 15000 sentences (word/sec=5033.31)\n",
      "--finished 20000 sentences (word/sec=5165.99)\n",
      "--finished 25000 sentences (word/sec=5264.72)\n",
      "--finished 30000 sentences (word/sec=5334.61)\n",
      "--finished 35000 sentences (word/sec=5367.16)\n",
      "--finished 40000 sentences (word/sec=5406.64)\n",
      "iter 0: train loss/word=7.5499, ppl=1900.6468 (word/sec=5421.99)\n",
      "saving embedding files\n",
      "iter 0: dev loss/word=1.8474, ppl=6.3434 (word/sec=12475.24)\n",
      "--finished 5000 sentences (word/sec=5410.35)\n",
      "--finished 10000 sentences (word/sec=5436.65)\n",
      "--finished 15000 sentences (word/sec=5427.73)\n",
      "--finished 20000 sentences (word/sec=5387.49)\n",
      "--finished 25000 sentences (word/sec=5351.41)\n",
      "--finished 30000 sentences (word/sec=5370.89)\n",
      "--finished 35000 sentences (word/sec=5355.06)\n",
      "--finished 40000 sentences (word/sec=5373.57)\n",
      "iter 1: train loss/word=1.1102, ppl=3.0351 (word/sec=5374.96)\n",
      "saving embedding files\n",
      "iter 1: dev loss/word=1.2780, ppl=3.5895 (word/sec=11916.84)\n"
     ]
    }
   ],
   "source": [
    "last_dev = 1e20\n",
    "best_dev = 1e20\n",
    "\n",
    "for ITER in range(2):\n",
    "  # Perform training\n",
    "    random.shuffle(train)\n",
    "    # set the model to training mode\n",
    "    model.train()\n",
    "    train_words, train_loss = 0, 0.0\n",
    "    start = time.time()\n",
    "    for sent_id, sent in enumerate(train):\n",
    "        if len(sent)<=1:\n",
    "            continue\n",
    "        #print(sent)\n",
    "        my_loss = calc_sent_loss(sent)\n",
    "        train_loss += my_loss.data[0]\n",
    "        train_words += len(sent)\n",
    "        optimizer.zero_grad()\n",
    "        my_loss.backward()\n",
    "        optimizer.step()\n",
    "        if (sent_id+1) % 5000 == 0:\n",
    "            print(\"--finished %r sentences (word/sec=%.2f)\" % (sent_id+1, train_words/(time.time()-start)))\n",
    "    print(\"iter %r: train loss/word=%.4f, ppl=%.4f (word/sec=%.2f)\" % (ITER, train_loss/train_words, math.exp(train_loss/train_words), train_words/(time.time()-start)))\n",
    "\n",
    "    # Evaluate on dev set\n",
    "    # set the model to evaluation mode\n",
    "    model.eval()\n",
    "    dev_words, dev_loss = 0, 0.0\n",
    "    start = time.time()\n",
    "    for sent_id, sent in enumerate(dev):\n",
    "        if len(sent)<=1:\n",
    "            continue\n",
    "        my_loss = calc_sent_loss(sent)\n",
    "        dev_loss += my_loss.data[0]\n",
    "        dev_words += len(sent)\n",
    "\n",
    "    # Keep track of the development accuracy and reduce the learning rate if it got worse\n",
    "    if last_dev < dev_loss:\n",
    "        optimizer.learning_rate /= 2\n",
    "    last_dev = dev_loss\n",
    "\n",
    "    # Keep track of the best development accuracy, and save the model only if it's the best one\n",
    "    if best_dev > dev_loss:\n",
    "        print(\"saving embedding files\")\n",
    "        with open(embeddings_location, 'w') as embeddings_file:\n",
    "            W_w_np = model.embedding.weight.cpu().data.numpy()\n",
    "            for i in range(nwords):\n",
    "                ith_embedding = '\\t'.join(map(str, W_w_np[i]))\n",
    "                embeddings_file.write(ith_embedding + '\\n')\n",
    "        best_dev = dev_loss\n",
    "        \n",
    "        # Save the model\n",
    "    print(\"iter %r: dev loss/word=%.4f, ppl=%.4f (word/sec=%.2f)\" % (ITER, dev_loss/dev_words, math.exp(dev_loss/dev_words), dev_words/(time.time()-start)))\n"
   ]
  },
  {
   "cell_type": "code",
   "execution_count": null,
   "metadata": {},
   "outputs": [],
   "source": []
  }
 ],
 "metadata": {
  "kernelspec": {
   "display_name": "Python 3",
   "language": "python",
   "name": "python3"
  },
  "language_info": {
   "codemirror_mode": {
    "name": "ipython",
    "version": 3
   },
   "file_extension": ".py",
   "mimetype": "text/x-python",
   "name": "python",
   "nbconvert_exporter": "python",
   "pygments_lexer": "ipython3",
   "version": "3.6.4"
  }
 },
 "nbformat": 4,
 "nbformat_minor": 2
}
